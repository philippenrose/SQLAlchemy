{
 "cells": [
  {
   "cell_type": "code",
   "execution_count": 1,
   "metadata": {},
   "outputs": [],
   "source": [
    "# Imports\n",
    "%matplotlib inline\n",
    "from matplotlib import style\n",
    "style.use('fivethirtyeight')\n",
    "import matplotlib.pyplot as plt"
   ]
  },
  {
   "cell_type": "code",
   "execution_count": 2,
   "metadata": {},
   "outputs": [],
   "source": [
    "import numpy as np\n",
    "import pandas as pd\n",
    "from scipy.stats import ttest_ind, ttest_rel"
   ]
  },
  {
   "cell_type": "code",
   "execution_count": 3,
   "metadata": {},
   "outputs": [],
   "source": [
    "import calendar\n",
    "import datetime as dt\n",
    "from datetime import timedelta"
   ]
  },
  {
   "cell_type": "markdown",
   "metadata": {},
   "source": [
    "# Reflect Tables into SQLAlchemy ORM"
   ]
  },
  {
   "cell_type": "code",
   "execution_count": 4,
   "metadata": {},
   "outputs": [],
   "source": [
    "# Python SQL toolkit and Object Relational Mapper\n",
    "import sqlalchemy\n",
    "from sqlalchemy.ext.automap import automap_base\n",
    "from sqlalchemy.orm import Session\n",
    "from sqlalchemy import create_engine, func, inspect"
   ]
  },
  {
   "cell_type": "code",
   "execution_count": 5,
   "metadata": {},
   "outputs": [],
   "source": [
    "engine = create_engine(\"sqlite:///Resources/hawaii.sqlite\")"
   ]
  },
  {
   "cell_type": "code",
   "execution_count": 6,
   "metadata": {},
   "outputs": [],
   "source": [
    "# reflect an existing database into a new model\n",
    "Base = automap_base()\n",
    "# reflect the tables\n",
    "Base.prepare(engine, reflect=True)"
   ]
  },
  {
   "cell_type": "code",
   "execution_count": 7,
   "metadata": {},
   "outputs": [
    {
     "data": {
      "text/plain": [
       "['measurement', 'station']"
      ]
     },
     "execution_count": 7,
     "metadata": {},
     "output_type": "execute_result"
    }
   ],
   "source": [
    "# We can view all of the classes that automap found\n",
    "Base.classes.keys()"
   ]
  },
  {
   "cell_type": "code",
   "execution_count": 8,
   "metadata": {},
   "outputs": [],
   "source": [
    "# Save references to each table\n",
    "Measurement = Base.classes.measurement\n",
    "Station = Base.classes.station"
   ]
  },
  {
   "cell_type": "code",
   "execution_count": 9,
   "metadata": {},
   "outputs": [],
   "source": [
    "# Create our session (link) from Python to the DB\n",
    "session = Session(engine)"
   ]
  },
  {
   "cell_type": "markdown",
   "metadata": {},
   "source": [
    "## Explore Database"
   ]
  },
  {
   "cell_type": "code",
   "execution_count": 15,
   "metadata": {},
   "outputs": [],
   "source": [
    "inspector = inspect(engine)"
   ]
  },
  {
   "cell_type": "code",
   "execution_count": 16,
   "metadata": {},
   "outputs": [
    {
     "name": "stdout",
     "output_type": "stream",
     "text": [
      "id INTEGER\n",
      "station TEXT\n",
      "name TEXT\n",
      "latitude FLOAT\n",
      "longitude FLOAT\n",
      "elevation FLOAT\n"
     ]
    }
   ],
   "source": [
    "# Get a list of column names and types for \"station\"\n",
    "columns = inspector.get_columns('station')\n",
    "for c in columns:\n",
    "    print(c['name'], c[\"type\"])"
   ]
  },
  {
   "cell_type": "code",
   "execution_count": 17,
   "metadata": {},
   "outputs": [
    {
     "name": "stdout",
     "output_type": "stream",
     "text": [
      "id INTEGER\n",
      "station TEXT\n",
      "date TEXT\n",
      "prcp FLOAT\n",
      "tobs FLOAT\n"
     ]
    }
   ],
   "source": [
    "# Get a list of column names and types for \"measurement\"\n",
    "columns = inspector.get_columns('measurement')\n",
    "for c in columns:\n",
    "    print(c['name'], c[\"type\"])"
   ]
  },
  {
   "cell_type": "code",
   "execution_count": 18,
   "metadata": {},
   "outputs": [
    {
     "data": {
      "text/plain": [
       "[(1, 'USC00519397', 'WAIKIKI 717.2, HI US', 21.2716, -157.8168, 3.0),\n",
       " (2, 'USC00513117', 'KANEOHE 838.1, HI US', 21.4234, -157.8015, 14.6),\n",
       " (3, 'USC00514830', 'KUALOA RANCH HEADQUARTERS 886.9, HI US', 21.5213, -157.8374, 7.0),\n",
       " (4, 'USC00517948', 'PEARL CITY, HI US', 21.3934, -157.9751, 11.9),\n",
       " (5, 'USC00518838', 'UPPER WAHIAWA 874.3, HI US', 21.4992, -158.0111, 306.6)]"
      ]
     },
     "execution_count": 18,
     "metadata": {},
     "output_type": "execute_result"
    }
   ],
   "source": [
    "engine.execute('SELECT * FROM station LIMIT 5').fetchall()"
   ]
  },
  {
   "cell_type": "code",
   "execution_count": 19,
   "metadata": {},
   "outputs": [
    {
     "data": {
      "text/plain": [
       "[(1, 'USC00519397', '2010-01-01', 0.08, 65.0),\n",
       " (2, 'USC00519397', '2010-01-02', 0.0, 63.0),\n",
       " (3, 'USC00519397', '2010-01-03', 0.0, 74.0),\n",
       " (4, 'USC00519397', '2010-01-04', 0.0, 76.0),\n",
       " (5, 'USC00519397', '2010-01-06', None, 73.0)]"
      ]
     },
     "execution_count": 19,
     "metadata": {},
     "output_type": "execute_result"
    }
   ],
   "source": [
    "engine.execute('SELECT * FROM measurement LIMIT 5').fetchall()"
   ]
  },
  {
   "cell_type": "markdown",
   "metadata": {},
   "source": [
    "# Climate Analysis and Exploration"
   ]
  },
  {
   "cell_type": "markdown",
   "metadata": {},
   "source": [
    "## Precipitation Analysis"
   ]
  },
  {
   "cell_type": "markdown",
   "metadata": {},
   "source": [
    "* Design a query to retrieve the last 12 months of precipitation data and plot the results"
   ]
  },
  {
   "cell_type": "code",
   "execution_count": 92,
   "metadata": {},
   "outputs": [
    {
     "name": "stdout",
     "output_type": "stream",
     "text": [
      "Last Date Recorded: 2017-08-23\n",
      "Date one year before: 2016-08-23\n"
     ]
    }
   ],
   "source": [
    "# Calculate the date 1 year ago from the last data point in the database\n",
    "last_date = session.query(Measurement).order_by(Measurement.date.desc()).first().date\n",
    "first_date = (pd.to_datetime(last_date) - timedelta(days=365)).date()\n",
    "print(f'Last Date Recorded: {last_date}\\nDate one year before: {first_date}')"
   ]
  },
  {
   "cell_type": "code",
   "execution_count": 93,
   "metadata": {},
   "outputs": [],
   "source": [
    "# Perform a query to retrieve the data and precipitation scores\n",
    "datas = session.query(Measurement.date, Measurement.prcp).filter(Measurement.date >= first_date)"
   ]
  },
  {
   "cell_type": "code",
   "execution_count": 94,
   "metadata": {},
   "outputs": [],
   "source": [
    "# Save the query results as a Pandas DataFrame and set the index to the date column\n",
    "df = pd.DataFrame(datas, columns=['Dates', 'Precipitations'])\n",
    "df.set_index('Dates', inplace=True)\n",
    "df = df.sort_values(['Dates'])"
   ]
  },
  {
   "cell_type": "code",
   "execution_count": 95,
   "metadata": {},
   "outputs": [
    {
     "data": {
      "image/png": "[encoded data removed]",
      "text/plain": [
       "<Figure size 720x504 with 1 Axes>"
      ]
     },
     "metadata": {
      "needs_background": "light"
     },
     "output_type": "display_data"
    }
   ],
   "source": [
    "# Use Pandas Plotting with Matplotlib to plot the data\n",
    "df.plot.line(fontsize = 12, figsize=(10,7))\n",
    "plt.ylabel('Precipitation (inch)')\n",
    "plt.title(label=f'Precipitations From {first_date} to {last_date}', fontsize = 18)\n",
    "plt.tick_params(labelsize = 15, axis=\"y\",direction=\"in\")\n",
    "plt.legend(loc='best', prop={'size': 15})\n",
    "plt.tight_layout()\n",
    "plt.savefig(f\"Figures/Precipitation.png\")\n",
    "plt.show()"
   ]
  },
  {
   "cell_type": "code",
   "execution_count": 61,
   "metadata": {},
   "outputs": [
    {
     "data": {
      "text/html": [
       "<div>\n",
       "<style scoped>\n",
       "    .dataframe tbody tr th:only-of-type {\n",
       "        vertical-align: middle;\n",
       "    }\n",
       "\n",
       "    .dataframe tbody tr th {\n",
       "        vertical-align: top;\n",
       "    }\n",
       "\n",
       "    .dataframe thead th {\n",
       "        text-align: right;\n",
       "    }\n",
       "</style>\n",
       "<table border=\"1\" class=\"dataframe\">\n",
       "  <thead>\n",
       "    <tr style=\"text-align: right;\">\n",
       "      <th></th>\n",
       "      <th>Precipitations</th>\n",
       "    </tr>\n",
       "  </thead>\n",
       "  <tbody>\n",
       "    <tr>\n",
       "      <th>count</th>\n",
       "      <td>2021.000000</td>\n",
       "    </tr>\n",
       "    <tr>\n",
       "      <th>mean</th>\n",
       "      <td>0.177279</td>\n",
       "    </tr>\n",
       "    <tr>\n",
       "      <th>std</th>\n",
       "      <td>0.461190</td>\n",
       "    </tr>\n",
       "    <tr>\n",
       "      <th>min</th>\n",
       "      <td>0.000000</td>\n",
       "    </tr>\n",
       "    <tr>\n",
       "      <th>25%</th>\n",
       "      <td>0.000000</td>\n",
       "    </tr>\n",
       "    <tr>\n",
       "      <th>50%</th>\n",
       "      <td>0.020000</td>\n",
       "    </tr>\n",
       "    <tr>\n",
       "      <th>75%</th>\n",
       "      <td>0.130000</td>\n",
       "    </tr>\n",
       "    <tr>\n",
       "      <th>max</th>\n",
       "      <td>6.700000</td>\n",
       "    </tr>\n",
       "  </tbody>\n",
       "</table>\n",
       "</div>"
      ],
      "text/plain": [
       "       Precipitations\n",
       "count     2021.000000\n",
       "mean         0.177279\n",
       "std          0.461190\n",
       "min          0.000000\n",
       "25%          0.000000\n",
       "50%          0.020000\n",
       "75%          0.130000\n",
       "max          6.700000"
      ]
     },
     "execution_count": 61,
     "metadata": {},
     "output_type": "execute_result"
    }
   ],
   "source": [
    "# Use Pandas to calcualte the summary statistics for the precipitation data\n",
    "df.describe()"
   ]
  },
  {
   "cell_type": "markdown",
   "metadata": {},
   "source": [
    "## Station Analysis"
   ]
  },
  {
   "cell_type": "markdown",
   "metadata": {},
   "source": [
    "* Design a query to calculate the total number of stations."
   ]
  },
  {
   "cell_type": "code",
   "execution_count": 62,
   "metadata": {},
   "outputs": [
    {
     "name": "stdout",
     "output_type": "stream",
     "text": [
      "9 stations are available in this dataset.\n"
     ]
    }
   ],
   "source": [
    "# Design a query to show how many stations are available in this dataset?\n",
    "count_stations = session.query(Measurement.station).\\\n",
    "    group_by(Measurement.station).count()\n",
    "print(\"{} stations are available in this dataset.\".format(count_stations))"
   ]
  },
  {
   "cell_type": "markdown",
   "metadata": {},
   "source": [
    "* Design a query to find the most active stations.\n",
    "    * List the stations and observation counts in descending order."
   ]
  },
  {
   "cell_type": "code",
   "execution_count": 63,
   "metadata": {},
   "outputs": [],
   "source": [
    "# Design a query to get the stations and their observations count\n",
    "active_stations = session.query(Station.name, Measurement.station, func.count(Measurement.station)).\\\n",
    "                    filter(Station.station == Measurement.station).\\\n",
    "                    group_by(Measurement.station).\\\n",
    "                    order_by(func.count(Measurement.station).desc()).all()                                 "
   ]
  },
  {
   "cell_type": "code",
   "execution_count": 64,
   "metadata": {},
   "outputs": [
    {
     "data": {
      "text/html": [
       "<div>\n",
       "<style scoped>\n",
       "    .dataframe tbody tr th:only-of-type {\n",
       "        vertical-align: middle;\n",
       "    }\n",
       "\n",
       "    .dataframe tbody tr th {\n",
       "        vertical-align: top;\n",
       "    }\n",
       "\n",
       "    .dataframe thead th {\n",
       "        text-align: right;\n",
       "    }\n",
       "</style>\n",
       "<table border=\"1\" class=\"dataframe\">\n",
       "  <thead>\n",
       "    <tr style=\"text-align: right;\">\n",
       "      <th></th>\n",
       "      <th>Station Name</th>\n",
       "      <th>Observations Count</th>\n",
       "    </tr>\n",
       "    <tr>\n",
       "      <th>Station ID</th>\n",
       "      <th></th>\n",
       "      <th></th>\n",
       "    </tr>\n",
       "  </thead>\n",
       "  <tbody>\n",
       "    <tr>\n",
       "      <th>USC00519281</th>\n",
       "      <td>WAIHEE 837.5, HI US</td>\n",
       "      <td>2772</td>\n",
       "    </tr>\n",
       "    <tr>\n",
       "      <th>USC00519397</th>\n",
       "      <td>WAIKIKI 717.2, HI US</td>\n",
       "      <td>2724</td>\n",
       "    </tr>\n",
       "    <tr>\n",
       "      <th>USC00513117</th>\n",
       "      <td>KANEOHE 838.1, HI US</td>\n",
       "      <td>2709</td>\n",
       "    </tr>\n",
       "    <tr>\n",
       "      <th>USC00519523</th>\n",
       "      <td>WAIMANALO EXPERIMENTAL FARM, HI US</td>\n",
       "      <td>2669</td>\n",
       "    </tr>\n",
       "    <tr>\n",
       "      <th>USC00516128</th>\n",
       "      <td>MANOA LYON ARBO 785.2, HI US</td>\n",
       "      <td>2612</td>\n",
       "    </tr>\n",
       "    <tr>\n",
       "      <th>USC00514830</th>\n",
       "      <td>KUALOA RANCH HEADQUARTERS 886.9, HI US</td>\n",
       "      <td>2202</td>\n",
       "    </tr>\n",
       "    <tr>\n",
       "      <th>USC00511918</th>\n",
       "      <td>HONOLULU OBSERVATORY 702.2, HI US</td>\n",
       "      <td>1979</td>\n",
       "    </tr>\n",
       "    <tr>\n",
       "      <th>USC00517948</th>\n",
       "      <td>PEARL CITY, HI US</td>\n",
       "      <td>1372</td>\n",
       "    </tr>\n",
       "    <tr>\n",
       "      <th>USC00518838</th>\n",
       "      <td>UPPER WAHIAWA 874.3, HI US</td>\n",
       "      <td>511</td>\n",
       "    </tr>\n",
       "  </tbody>\n",
       "</table>\n",
       "</div>"
      ],
      "text/plain": [
       "                                       Station Name  Observations Count\n",
       "Station ID                                                             \n",
       "USC00519281                     WAIHEE 837.5, HI US                2772\n",
       "USC00519397                    WAIKIKI 717.2, HI US                2724\n",
       "USC00513117                    KANEOHE 838.1, HI US                2709\n",
       "USC00519523      WAIMANALO EXPERIMENTAL FARM, HI US                2669\n",
       "USC00516128            MANOA LYON ARBO 785.2, HI US                2612\n",
       "USC00514830  KUALOA RANCH HEADQUARTERS 886.9, HI US                2202\n",
       "USC00511918       HONOLULU OBSERVATORY 702.2, HI US                1979\n",
       "USC00517948                       PEARL CITY, HI US                1372\n",
       "USC00518838              UPPER WAHIAWA 874.3, HI US                 511"
      ]
     },
     "execution_count": 64,
     "metadata": {},
     "output_type": "execute_result"
    }
   ],
   "source": [
    "# Save the query results as a Pandas DataFrame and set the index to the station ID column\n",
    "active_df = pd.DataFrame(active_stations, columns=[\"Station Name\", \"Station ID\", \"Observations Count\"])\n",
    "active_df.set_index(\"Station ID\", inplace=True)\n",
    "active_df"
   ]
  },
  {
   "cell_type": "markdown",
   "metadata": {},
   "source": [
    "* Which station has the highest number of observations?"
   ]
  },
  {
   "cell_type": "code",
   "execution_count": 65,
   "metadata": {},
   "outputs": [],
   "source": [
    "# Design a query to find the most active station\n",
    "most_active= session.query(Station.name, Measurement.station, func.count(Measurement.station)).\\\n",
    "                    filter(Station.station == Measurement.station).\\\n",
    "                    group_by(Measurement.station).\\\n",
    "                    order_by(func.count(Measurement.station).desc()).first()  "
   ]
  },
  {
   "cell_type": "code",
   "execution_count": 66,
   "metadata": {},
   "outputs": [
    {
     "name": "stdout",
     "output_type": "stream",
     "text": [
      "The station WAIHEE 837.5, HI US (ID:USC00519281) has the highest number of observations with 2772 observations.\n"
     ]
    }
   ],
   "source": [
    "print(\"The station {} (ID:{}) has the highest number of observations with {} observations.\".\\\n",
    "      format(most_active[0], most_active[1], most_active[2]))"
   ]
  },
  {
   "cell_type": "markdown",
   "metadata": {},
   "source": [
    "* For the station with the highest number of observations, calculate:\n",
    "    * lowest, highest and average temperature recorded"
   ]
  },
  {
   "cell_type": "code",
   "execution_count": 67,
   "metadata": {},
   "outputs": [
    {
     "name": "stdout",
     "output_type": "stream",
     "text": [
      "The lowest temperature recorded in WAIHEE 837.5, HI US is 54.0° F\n",
      "The average temperature recorded in WAIHEE 837.5, HI US is 71.7° F\n",
      "The highest temperature recorded in WAIHEE 837.5, HI US is 85.0° F\n"
     ]
    }
   ],
   "source": [
    "# Design a query to get the lowest, highest and average temperature recorded for the most active station\n",
    "query_temp = session.query(func.min(Measurement.tobs), func.avg(Measurement.tobs), func.max(Measurement.tobs)).\\\n",
    "    filter(Measurement.station == most_active[1]).all()\n",
    "\n",
    "records = [\"lowest\", \"average\", \"highest\"]\n",
    "for results in query_temp:\n",
    "    for i in range(len(results)):\n",
    "        print(f\"The {records[i]} temperature recorded in {most_active[0]} is {results[i]:.1f}° F\")"
   ]
  },
  {
   "cell_type": "markdown",
   "metadata": {},
   "source": [
    "* Design a query to retrieve the last 12 months of temperature observation data (tobs) for the most active station"
   ]
  },
  {
   "cell_type": "code",
   "execution_count": 90,
   "metadata": {},
   "outputs": [
    {
     "data": {
      "image/png": "[encoded data removed]",
      "text/plain": [
       "<Figure size 720x648 with 1 Axes>"
      ]
     },
     "metadata": {
      "needs_background": "light"
     },
     "output_type": "display_data"
    }
   ],
   "source": [
    "# Query the last 12 months of temperature observation data for the station with the highest number of temperature observations.\n",
    "twelve_months = session.query(Measurement.tobs).\\\n",
    "    filter((Measurement.station == most_active[1]), (Measurement.date > first_date)).all()\n",
    "\n",
    "# Convert the query results in a DataFrame\n",
    "df_twelve = pd.DataFrame(twelve_months)\n",
    "\n",
    "# Plot the results as a histogram\n",
    "df_twelve.plot.hist(bins=12, title=f\"Frequency of Temperatures in {most_active[0]} \\n {first_date} / {last_date}\",\n",
    "                   figsize=(10,9))\n",
    "plt.tick_params(labelsize = 15, direction=\"in\")\n",
    "plt.legend(loc=2, prop={'size': 15})\n",
    "\n",
    "plt.ylabel('Frequency', fontsize=16)\n",
    "plt.ylim((0,70))\n",
    "plt.xlabel('Temperatures (°F)', fontsize=16)\n",
    "plt.savefig(f\"Figures/Temp_Frequency.png\")\n",
    "plt.show()\n"
   ]
  },
  {
   "cell_type": "markdown",
   "metadata": {},
   "source": [
    "## Temperature Analysis I\n",
    "\n",
    "Identify the average temperature in June and December at all stations across all available years in the dataset."
   ]
  },
  {
   "cell_type": "code",
   "execution_count": 69,
   "metadata": {},
   "outputs": [],
   "source": [
    "# Create a function which return a list of temperatures for the month chosen by the user\n",
    "def monthly_list(month_number):\n",
    "\n",
    "    return session.query(Measurement.tobs).\\\n",
    "                         filter(func.strftime(\"%m\", Measurement.date) == month_number).all()"
   ]
  },
  {
   "cell_type": "code",
   "execution_count": 70,
   "metadata": {},
   "outputs": [
    {
     "name": "stdout",
     "output_type": "stream",
     "text": [
      "First month in format MM ?   06\n",
      "Month of June selected\n",
      "Second month in format MM ?   12\n",
      "Month of December selected\n",
      "The average temperature is 74.9 for June and 71.0 for December.\n"
     ]
    }
   ],
   "source": [
    "# Ask the user which two months have to be to compare (June and December in this case) \n",
    "while True:\n",
    "    try:\n",
    "        number_month1 = input(\"First month in format MM ?   \")\n",
    "        print(f'Month of {calendar.month_name[int(number_month1)]} selected')\n",
    "        number_month2 = input(\"Second month in format MM ?   \")\n",
    "        print(f'Month of {calendar.month_name[int(number_month2)]} selected')\n",
    "        break\n",
    "    except (ValueError, IndexError):\n",
    "        print(f'Input {number_month1} does not match format MM (e.g. 01 for January)')\n",
    "\n",
    "# Calculate the mean for each of both months\n",
    "means_month1 = np.mean(monthly_list(number_month1))\n",
    "means_month2 = np.mean(monthly_list(number_month2))\n",
    "\n",
    "# Print the average temperature at all stations across all available years in the dataset for both months.\n",
    "print(f\"The average temperature is {means_month1:.1f} for {calendar.month_name[int(number_month1)]} \\\n",
    "and {means_month2:.1f} for {calendar.month_name[int(number_month2)]}.\")"
   ]
  },
  {
   "cell_type": "markdown",
   "metadata": {},
   "source": [
    "In order to determine whether the difference in the means is statistically significant, the unpaired t-test (Student t-test) has been chosen. Even if we have records from the same stations, we don't have the same number of records in each of these two months."
   ]
  },
  {
   "cell_type": "code",
   "execution_count": 71,
   "metadata": {},
   "outputs": [
    {
     "name": "stdout",
     "output_type": "stream",
     "text": [
      "t-stat = [31.35503692] ; p = [4.19352984e-187]\n",
      "The differences of means between June and December ARE statistically highly significant.\n"
     ]
    }
   ],
   "source": [
    "# t-test\n",
    "(t_stat, p) = ttest_ind(monthly_list(number_month1), monthly_list(number_month2), equal_var=False)\n",
    "print(f't-stat = {t_stat} ; p = {p}')\n",
    "if p < 0.001:\n",
    "    print(f\"The differences of means between {calendar.month_name[int(number_month1)]} \\\n",
    "and {calendar.month_name[int(number_month2)]} ARE statistically highly significant.\")\n",
    "    \n",
    "elif p < 0.05:\n",
    "    print(f\"The differences of means between {calendar.month_name[int(number_month1)]} \\\n",
    "and {calendar.month_name[int(number_month2)]} ARE statistically significant.\")\n",
    "    \n",
    "else:\n",
    "    print(f\"The differences of means between {calendar.month_name[int(number_month1)]} \\\n",
    "and {calendar.month_name[int(number_month2)]} ARE NOT statistically significant.\")"
   ]
  },
  {
   "cell_type": "markdown",
   "metadata": {},
   "source": [
    "## Temperature Analysis II\n",
    "\n",
    "Calculate the min, avg, and max temperatures for the trip using the last matching dates available in the dataset (i.e., use \"2017-01-01\" if your trip start date will be \"2020-01-01\")."
   ]
  },
  {
   "cell_type": "code",
   "execution_count": 72,
   "metadata": {},
   "outputs": [
    {
     "name": "stdout",
     "output_type": "stream",
     "text": [
      "Trip start in MM/DD/YYYY format?   07/14/2021\n",
      "Wed 14 Jul, 2021\n",
      "How many days?   7\n",
      "Enjoy!\n",
      "You plan to go to Honolulu, Hawaii from Wed 14 Jul, 2021 to Wed 21 Jul, 2021\n"
     ]
    }
   ],
   "source": [
    "# Ask the user about the trip start date and how many days of holidays in order to calculate the last matching dates\n",
    "while True:\n",
    "    try:\n",
    "        start_trip = input(\"Trip start in MM/DD/YYYY format?   \") # Define the trip start date with the user's input\n",
    "        \n",
    "        start_trip = (pd.to_datetime(start_trip)).date() # Convert the input in datetime format\n",
    "        \n",
    "        if start_trip > dt.date.today() : # If the date chosen is after today, OK\n",
    "            start_trip1 = start_trip.strftime(\"%a %d %b, %Y\") # Convert the date format with day name \n",
    "            print(start_trip1) # Print the new format         \n",
    "            break\n",
    "        \n",
    "        # If not, return to the input\n",
    "        else:\n",
    "            print('The date has passed')\n",
    "    except ValueError: # If the date doesn't match the format asked\n",
    "        print(f'time data {start_trip} does not match format MM/DD/YYYY')\n",
    "\n",
    "while True:\n",
    "    try:\n",
    "        # Ask the number of days of holidays\n",
    "        number_days = int(input(\"How many days?   \"))\n",
    "        # If  <= 3 number <= 15, OK \n",
    "        if 3 <= number_days <= 15:\n",
    "            print('Enjoy!')\n",
    "            break\n",
    "        \n",
    "        # If not, return to the input\n",
    "        else:\n",
    "            print('Make sure that your vacation range is approximately 3-15 days total')\n",
    "    \n",
    "    except ValueError: # If the date doesn't match the format asked\n",
    "        print(f'{number_days} is not a digit - please try again.') \n",
    "\n",
    "# Calculate the end trip date\n",
    "end_trip = (start_trip + timedelta(days=number_days))\n",
    "\n",
    "# Convert the end trip date format with day name \n",
    "end_trip1 = end_trip.strftime(\"%a %d %b, %Y\")\n",
    "\n",
    "# Print the trip dates\n",
    "print(f\"You plan to go to Honolulu, Hawaii from {start_trip1} to {end_trip1}\")"
   ]
  },
  {
   "cell_type": "code",
   "execution_count": 73,
   "metadata": {},
   "outputs": [],
   "source": [
    "# Find the last matching dates availables\n",
    "\n",
    "# While the match end trip date for the previous year is not in the dataset (> last date in the dataset)\n",
    "counter_year = 1 # Create the counter for year\n",
    "while (pd.to_datetime(end_trip)- timedelta(days= counter_year*365.25) > (pd.to_datetime(last_date))):\n",
    "\n",
    "    #counter + 1\n",
    "    counter_year +=1\n",
    "\n",
    "# When the matching last day trip\n",
    "else:\n",
    "    # Calculate the matching start and end date trip \n",
    "    start_date = (pd.to_datetime(start_trip)- timedelta(days=counter_year*365.25)).date()\n",
    "    end_date = (pd.to_datetime(end_trip)- timedelta(days=counter_year*365.25)).date()"
   ]
  },
  {
   "cell_type": "code",
   "execution_count": 74,
   "metadata": {},
   "outputs": [
    {
     "name": "stdout",
     "output_type": "stream",
     "text": [
      "Period used to query will be: 2017-07-14 to 2017-07-21\n"
     ]
    }
   ],
   "source": [
    "# Print the dayes selected to query\n",
    "print(f\"Period used to query will be: {start_date} to {end_date}\")"
   ]
  },
  {
   "cell_type": "code",
   "execution_count": 75,
   "metadata": {},
   "outputs": [],
   "source": [
    "# This function called `calc_temps` will accept start date and end date in the format '%Y-%m-%d' \n",
    "\n",
    "def calc_temps(start_date, end_date):\n",
    "\n",
    "   # Return the minimum, average, and maximum temperatures for the range of dates \n",
    "    return session.query(func.min(Measurement.tobs), func.avg(Measurement.tobs), func.max(Measurement.tobs)).\\\n",
    "        filter(Measurement.date >= start_date).filter(Measurement.date <= end_date).all()"
   ]
  },
  {
   "cell_type": "code",
   "execution_count": 76,
   "metadata": {},
   "outputs": [
    {
     "name": "stdout",
     "output_type": "stream",
     "text": [
      "Between 2017-07-14 and 2017-07-21:\n",
      "The lowest temperature recorded is 72.0° F\n",
      "The average temperature recorded is 78.6° F\n",
      "The highest temperature recorded is 83.0° F\n"
     ]
    }
   ],
   "source": [
    "# Use your previous function `calc_temps` to calculate the tmin, tavg, and tmax \n",
    "# for your trip using the last matching data for those same dates.\n",
    "print(f\"Between {start_date} and {end_date}:\")\n",
    "for results in calc_temps(start_date, end_date):\n",
    "    for i in range(len(results)):\n",
    "        print(f\"The {records[i]} temperature recorded is {results[i]:.1f}° F\")"
   ]
  },
  {
   "cell_type": "code",
   "execution_count": 91,
   "metadata": {},
   "outputs": [
    {
     "data": {
      "image/png": "[encoded data removed]",
      "text/plain": [
       "<Figure size 432x648 with 1 Axes>"
      ]
     },
     "metadata": {
      "needs_background": "light"
     },
     "output_type": "display_data"
    }
   ],
   "source": [
    "# Plot the results from your previous query as a bar chart. \n",
    "plt.figure(figsize=(6,9))\n",
    "x = (f\"{start_date} / {end_date}\")\n",
    "plt.bar(x, results[1], width=0.5, align='center', yerr = (results[2]-results[0]), color='lightsalmon')\n",
    "plt.title('Trip Avg Temp', fontsize = 20)\n",
    "plt.ylabel('Temperature (°F)', fontsize = 15)\n",
    "plt.tick_params(labelsize = 15)\n",
    "plt.xlim(-0.5,0.5)\n",
    "plt.ylim(0,100)\n",
    "plt.savefig(f\"Figures/Average_Temp.png\")\n",
    "plt.show()"
   ]
  },
  {
   "cell_type": "markdown",
   "metadata": {},
   "source": [
    "## Daily Rainfall Average\n",
    "Calculate the rainfall per weather station using the previous year's matching dates.\n"
   ]
  },
  {
   "cell_type": "code",
   "execution_count": 78,
   "metadata": {},
   "outputs": [],
   "source": [
    "# Select the values we are interested for\n",
    "sel = [Station.station, Station.name, Station.latitude, \n",
    "   Station.longitude, Station.elevation, func.sum(Measurement.prcp)]\n",
    "\n",
    "# Query the selection, join the precipitation from Measurement table with the filter and select the period\n",
    "rainfall = session.query(*sel).\\\n",
    "    group_by(Station.station).\\\n",
    "    order_by(func.sum(Measurement.prcp).desc()).\\\n",
    "    filter(Station.station == Measurement.station).\\\n",
    "    filter(Measurement.date >= start_date).filter(Measurement.date <= end_date).all() "
   ]
  },
  {
   "cell_type": "code",
   "execution_count": 79,
   "metadata": {},
   "outputs": [
    {
     "data": {
      "text/html": [
       "<div>\n",
       "<style scoped>\n",
       "    .dataframe tbody tr th:only-of-type {\n",
       "        vertical-align: middle;\n",
       "    }\n",
       "\n",
       "    .dataframe tbody tr th {\n",
       "        vertical-align: top;\n",
       "    }\n",
       "\n",
       "    .dataframe thead th {\n",
       "        text-align: right;\n",
       "    }\n",
       "</style>\n",
       "<table border=\"1\" class=\"dataframe\">\n",
       "  <thead>\n",
       "    <tr style=\"text-align: right;\">\n",
       "      <th></th>\n",
       "      <th>Station Name</th>\n",
       "      <th>Latitude</th>\n",
       "      <th>Longitude</th>\n",
       "      <th>Elevation</th>\n",
       "      <th>Precipitations 2017-07-14 / 2017-07-21</th>\n",
       "    </tr>\n",
       "    <tr>\n",
       "      <th>Station ID</th>\n",
       "      <th></th>\n",
       "      <th></th>\n",
       "      <th></th>\n",
       "      <th></th>\n",
       "      <th></th>\n",
       "    </tr>\n",
       "  </thead>\n",
       "  <tbody>\n",
       "    <tr>\n",
       "      <th>USC00516128</th>\n",
       "      <td>MANOA LYON ARBO 785.2, HI US</td>\n",
       "      <td>21.33310</td>\n",
       "      <td>-157.80250</td>\n",
       "      <td>152.4</td>\n",
       "      <td>5.14</td>\n",
       "    </tr>\n",
       "    <tr>\n",
       "      <th>USC00519281</th>\n",
       "      <td>WAIHEE 837.5, HI US</td>\n",
       "      <td>21.45167</td>\n",
       "      <td>-157.84889</td>\n",
       "      <td>32.9</td>\n",
       "      <td>0.75</td>\n",
       "    </tr>\n",
       "    <tr>\n",
       "      <th>USC00513117</th>\n",
       "      <td>KANEOHE 838.1, HI US</td>\n",
       "      <td>21.42340</td>\n",
       "      <td>-157.80150</td>\n",
       "      <td>14.6</td>\n",
       "      <td>0.42</td>\n",
       "    </tr>\n",
       "    <tr>\n",
       "      <th>USC00514830</th>\n",
       "      <td>KUALOA RANCH HEADQUARTERS 886.9, HI US</td>\n",
       "      <td>21.52130</td>\n",
       "      <td>-157.83740</td>\n",
       "      <td>7.0</td>\n",
       "      <td>0.38</td>\n",
       "    </tr>\n",
       "    <tr>\n",
       "      <th>USC00519523</th>\n",
       "      <td>WAIMANALO EXPERIMENTAL FARM, HI US</td>\n",
       "      <td>21.33556</td>\n",
       "      <td>-157.71139</td>\n",
       "      <td>19.5</td>\n",
       "      <td>0.33</td>\n",
       "    </tr>\n",
       "    <tr>\n",
       "      <th>USC00519397</th>\n",
       "      <td>WAIKIKI 717.2, HI US</td>\n",
       "      <td>21.27160</td>\n",
       "      <td>-157.81680</td>\n",
       "      <td>3.0</td>\n",
       "      <td>0.15</td>\n",
       "    </tr>\n",
       "    <tr>\n",
       "      <th>USC00517948</th>\n",
       "      <td>PEARL CITY, HI US</td>\n",
       "      <td>21.39340</td>\n",
       "      <td>-157.97510</td>\n",
       "      <td>11.9</td>\n",
       "      <td>0.00</td>\n",
       "    </tr>\n",
       "  </tbody>\n",
       "</table>\n",
       "</div>"
      ],
      "text/plain": [
       "                                       Station Name  Latitude  Longitude  \\\n",
       "Station ID                                                                 \n",
       "USC00516128            MANOA LYON ARBO 785.2, HI US  21.33310 -157.80250   \n",
       "USC00519281                     WAIHEE 837.5, HI US  21.45167 -157.84889   \n",
       "USC00513117                    KANEOHE 838.1, HI US  21.42340 -157.80150   \n",
       "USC00514830  KUALOA RANCH HEADQUARTERS 886.9, HI US  21.52130 -157.83740   \n",
       "USC00519523      WAIMANALO EXPERIMENTAL FARM, HI US  21.33556 -157.71139   \n",
       "USC00519397                    WAIKIKI 717.2, HI US  21.27160 -157.81680   \n",
       "USC00517948                       PEARL CITY, HI US  21.39340 -157.97510   \n",
       "\n",
       "             Elevation  Precipitations 2017-07-14 / 2017-07-21  \n",
       "Station ID                                                      \n",
       "USC00516128      152.4                                    5.14  \n",
       "USC00519281       32.9                                    0.75  \n",
       "USC00513117       14.6                                    0.42  \n",
       "USC00514830        7.0                                    0.38  \n",
       "USC00519523       19.5                                    0.33  \n",
       "USC00519397        3.0                                    0.15  \n",
       "USC00517948       11.9                                    0.00  "
      ]
     },
     "execution_count": 79,
     "metadata": {},
     "output_type": "execute_result"
    }
   ],
   "source": [
    "# Build a DataFrame with the previous query and set the index on Station ID\n",
    "rainfall_df = pd.DataFrame(rainfall, columns=['Station ID', 'Station Name', 'Latitude', 'Longitude',\n",
    "                                              'Elevation', f'Precipitations {start_date} / {end_date}'])\n",
    "rainfall_df.set_index(['Station ID'])"
   ]
  },
  {
   "cell_type": "markdown",
   "metadata": {},
   "source": [
    "## Optional Challenge Assignment"
   ]
  },
  {
   "cell_type": "markdown",
   "metadata": {},
   "source": [
    "Calculate the daily normals for the trip"
   ]
  },
  {
   "cell_type": "code",
   "execution_count": 80,
   "metadata": {},
   "outputs": [],
   "source": [
    "# Create a query that will calculate the daily normals\n",
    "def daily_normals(date):\n",
    "\n",
    "    sel = [func.min(Measurement.tobs), func.avg(Measurement.tobs), func.max(Measurement.tobs)]\n",
    "    return session.query(*sel).filter(func.strftime(\"%m-%d\", Measurement.date) == date).all()"
   ]
  },
  {
   "cell_type": "code",
   "execution_count": 81,
   "metadata": {},
   "outputs": [],
   "source": [
    "# Create a list for the the range of dates\n",
    "dates_m_d = []\n",
    "datesmd = []\n",
    "# Use the start and number days to create a range of dates\n",
    "for i in range(number_days+1):\n",
    "    date_trip = ((start_date) + timedelta(days=i))\n",
    "    dates_m_d.append(date_trip.strftime(\"%m-%d\")) # Stip off the year and save a list of %m-%d strings\n",
    "    datesmd.append(date_trip.strftime(\"%B %d\"))\n",
    "# Create a list of daily normals \n",
    "normals = []\n",
    "\n",
    "# Loop through the list of %m-%d strings and calculate the normals and put them into the list\n",
    "for dates in dates_m_d:\n",
    "    normals.append(daily_normals(dates))"
   ]
  },
  {
   "cell_type": "code",
   "execution_count": 82,
   "metadata": {},
   "outputs": [],
   "source": [
    "# Load the previous query results into a Pandas DataFrame and add the `trip_dates` range as the `date` index\n",
    "tmin = [(value[0][0]) for value in normals]\n",
    "tavg = [(value[0][1]) for value in normals]\n",
    "tmax = [(value[0][2]) for value in normals]\n",
    "\n",
    "df = pd.DataFrame({\"Date\": datesmd, \"T.min\": tmin, \"T.avg\": tavg, \"T.max\": tmax}).set_index(\"Date\")"
   ]
  },
  {
   "cell_type": "code",
   "execution_count": 83,
   "metadata": {},
   "outputs": [
    {
     "data": {
      "image/png": "[encoded data removed]",
      "text/plain": [
       "<Figure size 720x576 with 1 Axes>"
      ]
     },
     "metadata": {
      "needs_background": "light"
     },
     "output_type": "display_data"
    }
   ],
   "source": [
    "# Convert date in format name_month-date\n",
    "start = start_date.strftime(\"%B %d\")\n",
    "end = end_date.strftime(\"%B %d\")\n",
    "\n",
    "# Plot the daily normals as an area plot with `stacked=False`\n",
    "pal = [\"blue\", \"darkorange\", \"gold\"]\n",
    "df.plot.area(stacked=False, figsize=(10,8), zorder=0, color=pal, alpha=0.5 )\n",
    "plt.ylabel('Temperatures (°F)', fontsize = 15)\n",
    "plt.title(f'Evolution of Temperatures in Hawaii\\n {start} - {end}', fontsize = 20)\n",
    "plt.ylim(45,95)\n",
    "plt.legend(loc=2, prop={'size': 15})\n",
    "plt.grid(color='white', linestyle='dotted', linewidth=1, zorder=5)\n",
    "plt.tick_params(labelsize = 15)\n",
    "\n",
    "plt.savefig(f\"Figures/Temp_Evolution.png\")\n",
    "plt.show()"
   ]
  },
  {
   "cell_type": "code",
   "execution_count": null,
   "metadata": {},
   "outputs": [],
   "source": []
  }
 ],
 "metadata": {
  "kernel_info": {
   "name": "python3"
  },
  "kernelspec": {
   "display_name": "Python 3",
   "language": "python",
   "name": "python3"
  },
  "language_info": {
   "codemirror_mode": {
    "name": "ipython",
    "version": 3
   },
   "file_extension": ".py",
   "mimetype": "text/x-python",
   "name": "python",
   "nbconvert_exporter": "python",
   "pygments_lexer": "ipython3",
   "version": "3.7.3"
  },
  "nteract": {
   "version": "0.12.3"
  },
  "varInspector": {
   "cols": {
    "lenName": 16,
    "lenType": 16,
    "lenVar": 40
   },
   "kernels_config": {
    "python": {
     "delete_cmd_postfix": "",
     "delete_cmd_prefix": "del ",
     "library": "var_list.py",
     "varRefreshCmd": "print(var_dic_list())"
    },
    "r": {
     "delete_cmd_postfix": ") ",
     "delete_cmd_prefix": "rm(",
     "library": "var_list.r",
     "varRefreshCmd": "cat(var_dic_list()) "
    }
   },
   "types_to_exclude": [
    "module",
    "function",
    "builtin_function_or_method",
    "instance",
    "_Feature"
   ],
   "window_display": false
  }
 },
 "nbformat": 4,
 "nbformat_minor": 2
}
